{
 "cells": [
  {
   "metadata": {},
   "cell_type": "markdown",
   "source": "Simulate df",
   "id": "28c8da96267da844"
  },
  {
   "cell_type": "code",
   "id": "initial_id",
   "metadata": {
    "collapsed": true,
    "ExecuteTime": {
     "end_time": "2025-03-29T10:30:48.651976Z",
     "start_time": "2025-03-29T10:30:48.627968Z"
    }
   },
   "source": [
    "import pandas as pd\n",
    "import numpy as np\n",
    "\n",
    "np.random.seed(42)\n",
    "\n",
    "n = 1000\n",
    "\n",
    "df = pd.DataFrame({\n",
    "    'customer_id': [f\"CUST{i:04d}\" for i in range(n)],\n",
    "    'tenure_months': np.random.randint(1, 72, size=n),\n",
    "    'monthly_charges': np.random.uniform(10,120,size=n),\n",
    "    'contract_type': np.random.choice(['Month-to-month', 'One year', 'Two year'], size=n),\n",
    "    'has_internet': np.random.choice(['Yes', 'No'], size=n, p=[0.8, 0.2]),\n",
    "    'payment_method': np.random.choice(['Credit card', 'Bank transfer', 'Electronic check'], size=n),\n",
    "    'churned': np.random.choice([0, 1], size=n, p=[0.73, 0.27])  # imbalanced\n",
    "})\n",
    "\n",
    "df['total_charges'] = df['tenure_months'] * df['monthly_charges']\n",
    "df.head()"
   ],
   "outputs": [
    {
     "data": {
      "text/plain": [
       "  customer_id  tenure_months  monthly_charges   contract_type has_internet  \\\n",
       "0    CUST0000             52       104.126611        One year          Yes   \n",
       "1    CUST0001             15       101.324185        One year          Yes   \n",
       "2    CUST0002             61        53.690188        Two year           No   \n",
       "3    CUST0003             21        83.489365  Month-to-month          Yes   \n",
       "4    CUST0004             24        32.548272        One year          Yes   \n",
       "\n",
       "     payment_method  churned  total_charges  \n",
       "0     Bank transfer        0    5414.583798  \n",
       "1       Credit card        1    1519.862777  \n",
       "2       Credit card        0    3275.101484  \n",
       "3     Bank transfer        0    1753.276665  \n",
       "4  Electronic check        0     781.158540  "
      ],
      "text/html": [
       "<div>\n",
       "<style scoped>\n",
       "    .dataframe tbody tr th:only-of-type {\n",
       "        vertical-align: middle;\n",
       "    }\n",
       "\n",
       "    .dataframe tbody tr th {\n",
       "        vertical-align: top;\n",
       "    }\n",
       "\n",
       "    .dataframe thead th {\n",
       "        text-align: right;\n",
       "    }\n",
       "</style>\n",
       "<table border=\"1\" class=\"dataframe\">\n",
       "  <thead>\n",
       "    <tr style=\"text-align: right;\">\n",
       "      <th></th>\n",
       "      <th>customer_id</th>\n",
       "      <th>tenure_months</th>\n",
       "      <th>monthly_charges</th>\n",
       "      <th>contract_type</th>\n",
       "      <th>has_internet</th>\n",
       "      <th>payment_method</th>\n",
       "      <th>churned</th>\n",
       "      <th>total_charges</th>\n",
       "    </tr>\n",
       "  </thead>\n",
       "  <tbody>\n",
       "    <tr>\n",
       "      <th>0</th>\n",
       "      <td>CUST0000</td>\n",
       "      <td>52</td>\n",
       "      <td>104.126611</td>\n",
       "      <td>One year</td>\n",
       "      <td>Yes</td>\n",
       "      <td>Bank transfer</td>\n",
       "      <td>0</td>\n",
       "      <td>5414.583798</td>\n",
       "    </tr>\n",
       "    <tr>\n",
       "      <th>1</th>\n",
       "      <td>CUST0001</td>\n",
       "      <td>15</td>\n",
       "      <td>101.324185</td>\n",
       "      <td>One year</td>\n",
       "      <td>Yes</td>\n",
       "      <td>Credit card</td>\n",
       "      <td>1</td>\n",
       "      <td>1519.862777</td>\n",
       "    </tr>\n",
       "    <tr>\n",
       "      <th>2</th>\n",
       "      <td>CUST0002</td>\n",
       "      <td>61</td>\n",
       "      <td>53.690188</td>\n",
       "      <td>Two year</td>\n",
       "      <td>No</td>\n",
       "      <td>Credit card</td>\n",
       "      <td>0</td>\n",
       "      <td>3275.101484</td>\n",
       "    </tr>\n",
       "    <tr>\n",
       "      <th>3</th>\n",
       "      <td>CUST0003</td>\n",
       "      <td>21</td>\n",
       "      <td>83.489365</td>\n",
       "      <td>Month-to-month</td>\n",
       "      <td>Yes</td>\n",
       "      <td>Bank transfer</td>\n",
       "      <td>0</td>\n",
       "      <td>1753.276665</td>\n",
       "    </tr>\n",
       "    <tr>\n",
       "      <th>4</th>\n",
       "      <td>CUST0004</td>\n",
       "      <td>24</td>\n",
       "      <td>32.548272</td>\n",
       "      <td>One year</td>\n",
       "      <td>Yes</td>\n",
       "      <td>Electronic check</td>\n",
       "      <td>0</td>\n",
       "      <td>781.158540</td>\n",
       "    </tr>\n",
       "  </tbody>\n",
       "</table>\n",
       "</div>"
      ]
     },
     "execution_count": 3,
     "metadata": {},
     "output_type": "execute_result"
    }
   ],
   "execution_count": 3
  },
  {
   "metadata": {},
   "cell_type": "markdown",
   "source": "Preprocessing and Modeling Pipeline",
   "id": "dd671cb279d3ce6a"
  },
  {
   "metadata": {
    "ExecuteTime": {
     "end_time": "2025-03-29T11:34:22.667767Z",
     "start_time": "2025-03-29T11:34:21.368793Z"
    }
   },
   "cell_type": "code",
   "source": [
    "from sklearn.model_selection import train_test_split\n",
    "from sklearn.pipeline import Pipeline\n",
    "from sklearn.compose import ColumnTransformer\n",
    "from sklearn.preprocessing import StandardScaler, OneHotEncoder\n",
    "from sklearn.ensemble import RandomForestClassifier\n",
    "from sklearn.metrics import classification_report\n",
    "\n",
    "X = df.drop(columns=['customer_id', 'churned'])\n",
    "y = df['churned']\n",
    "\n",
    "numeric_features = ['tenure_months', 'monthly_charges', 'total_charges']\n",
    "categorical_features = ['contract_type', 'has_internet', 'payment_method']\n",
    "\n",
    "X_train, X_test, y_train, y_test = train_test_split(X, y, stratify=y, test_size=0.2, random_state=42)\n",
    "\n",
    "preprocessor = ColumnTransformer([\n",
    "    ('num', StandardScaler(), numeric_features),\n",
    "    ('cat', OneHotEncoder(handle_unknown='ignore'), categorical_features)\n",
    "])\n",
    "\n",
    "pipeline = Pipeline([\n",
    "    ('preprocessing', preprocessor),\n",
    "    ('classifier', RandomForestClassifier(n_estimators=100, random_state=42))\n",
    "])\n",
    "\n",
    "pipeline.fit(X_train, y_train)\n",
    "\n",
    "y_pred = pipeline.predict(X_test)\n",
    "print(classification_report(y_test, y_pred))"
   ],
   "id": "c706d429477aa025",
   "outputs": [
    {
     "name": "stdout",
     "output_type": "stream",
     "text": [
      "              precision    recall  f1-score   support\n",
      "\n",
      "           0       0.75      0.88      0.81       147\n",
      "           1       0.38      0.21      0.27        53\n",
      "\n",
      "    accuracy                           0.70       200\n",
      "   macro avg       0.57      0.54      0.54       200\n",
      "weighted avg       0.65      0.70      0.67       200\n",
      "\n"
     ]
    }
   ],
   "execution_count": 4
  },
  {
   "metadata": {},
   "cell_type": "markdown",
   "source": "Save the Trained Pipeline",
   "id": "3744a9cbc140f216"
  },
  {
   "metadata": {
    "ExecuteTime": {
     "end_time": "2025-03-29T11:49:43.337339Z",
     "start_time": "2025-03-29T11:49:43.297410Z"
    }
   },
   "cell_type": "code",
   "source": [
    "import joblib\n",
    "import os\n",
    "\n",
    "os.makedirs(\"models\", exist_ok=True)\n",
    "\n",
    "joblib.dump(pipeline, 'models/churn_model.joblib')\n",
    "\n",
    "print('model saved')"
   ],
   "id": "3e263d114030bca3",
   "outputs": [
    {
     "name": "stdout",
     "output_type": "stream",
     "text": [
      "model saved\n"
     ]
    }
   ],
   "execution_count": 5
  },
  {
   "metadata": {},
   "cell_type": "code",
   "outputs": [],
   "execution_count": null,
   "source": "",
   "id": "814dfd89ba8e798d"
  }
 ],
 "metadata": {
  "kernelspec": {
   "display_name": "Python 3",
   "language": "python",
   "name": "python3"
  },
  "language_info": {
   "codemirror_mode": {
    "name": "ipython",
    "version": 2
   },
   "file_extension": ".py",
   "mimetype": "text/x-python",
   "name": "python",
   "nbconvert_exporter": "python",
   "pygments_lexer": "ipython2",
   "version": "2.7.6"
  }
 },
 "nbformat": 4,
 "nbformat_minor": 5
}
