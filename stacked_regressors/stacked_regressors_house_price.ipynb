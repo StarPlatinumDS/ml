{
 "cells": [
  {
   "cell_type": "code",
   "id": "initial_id",
   "metadata": {
    "collapsed": true
   },
   "source": [
    "import pandas as pd\n",
    "import numpy as np\n",
    "import matplotlib.pyplot as plt\n",
    "import seaborn as sns\n",
    "\n",
    "from sklearn.model_selection import train_test_split, cross_val_score, GridSearchCV\n",
    "from sklearn.preprocessing import StandardScaler, OneHotEncoder\n",
    "from sklearn.compose import ColumnTransformer\n",
    "from sklearn.pipeline import Pipeline\n",
    "from sklearn.impute import SimpleImputer\n",
    "from sklearn.ensemble import RandomForestRegressor, GradientBoostingRegressor, StackingRegressor\n",
    "from sklearn.linear_model import LinearRegression\n",
    "from sklearn.svm import SVR\n",
    "from sklearn.metrics import mean_squared_error, r2_score"
   ],
   "outputs": [],
   "execution_count": null
  },
  {
   "metadata": {},
   "cell_type": "code",
   "source": "data = pd.read_csv('train.csv')",
   "id": "3462b17f990274ce",
   "outputs": [],
   "execution_count": null
  },
  {
   "metadata": {},
   "cell_type": "code",
   "source": "data.head()",
   "id": "5151ccbfdaaba637",
   "outputs": [],
   "execution_count": null
  },
  {
   "metadata": {},
   "cell_type": "markdown",
   "source": "# eda & cleaning",
   "id": "38bd1dbace1bd847"
  },
  {
   "metadata": {},
   "cell_type": "code",
   "source": "data.info()",
   "id": "247462bc41d7ba4",
   "outputs": [],
   "execution_count": null
  },
  {
   "metadata": {},
   "cell_type": "code",
   "source": "data.describe()",
   "id": "91ea33e5e89cd169",
   "outputs": [],
   "execution_count": null
  },
  {
   "metadata": {},
   "cell_type": "code",
   "source": [
    "missing_values=data.isnull().sum()\n",
    "print(\"Missing values:\\n\", missing_values[missing_values>0].sort_values(ascending=False))"
   ],
   "id": "527beb48e1ddecd9",
   "outputs": [],
   "execution_count": null
  },
  {
   "metadata": {},
   "cell_type": "code",
   "source": [
    "numeric_features = data.select_dtypes(include=[np.number]).columns.tolist()\n",
    "print(f\"Numeric features: {len(numeric_features)}\")"
   ],
   "id": "94943f0083e899ca",
   "outputs": [],
   "execution_count": null
  },
  {
   "metadata": {},
   "cell_type": "code",
   "source": "'SalePrice' in numeric_features",
   "id": "fd891b94789e2457",
   "outputs": [],
   "execution_count": null
  },
  {
   "metadata": {},
   "cell_type": "code",
   "source": "data_numeric = data[numeric_features].copy()",
   "id": "90416f1ed9309b7c",
   "outputs": [],
   "execution_count": null
  },
  {
   "metadata": {},
   "cell_type": "code",
   "source": "data_numeric.fillna(data_numeric.median(), inplace=True)",
   "id": "37cf8d1e1a53c636",
   "outputs": [],
   "execution_count": null
  },
  {
   "metadata": {},
   "cell_type": "markdown",
   "source": "# split the data",
   "id": "3062e167c72f69c9"
  },
  {
   "metadata": {},
   "cell_type": "code",
   "source": [
    "X = data_numeric.drop(\"SalePrice\", axis=1)\n",
    "y = data_numeric[\"SalePrice\"]\n",
    "\n",
    "X_train, X_test, y_train, y_test = train_test_split(X, y, test_size=0.2, random_state=42)\n",
    "print(\"Training Set:\", X_train.shape)\n",
    "print(\"Test Set:\", X_test.shape)"
   ],
   "id": "739745de0b0d6a84",
   "outputs": [],
   "execution_count": null
  },
  {
   "metadata": {},
   "cell_type": "markdown",
   "source": "# build the stacked regressor",
   "id": "716595ab7f776228"
  },
  {
   "metadata": {},
   "cell_type": "code",
   "source": [
    "base_models = [\n",
    "    ('rf', RandomForestRegressor(n_estimators=50, random_state=42)),\n",
    "    ('gbr', GradientBoostingRegressor(n_estimators=50, random_state=42)),\n",
    "    ('svr', SVR())\n",
    "]\n",
    "\n",
    "#final estimator\n",
    "meta_model = LinearRegression()\n",
    "\n",
    "stacked_regressor = StackingRegressor(\n",
    "    estimators=base_models,\n",
    "    final_estimator=meta_model,\n",
    "    cv=5,\n",
    "    n_jobs=-1\n",
    ")\n",
    "\n",
    "model_pipeline = Pipeline([\n",
    "    ('scaler', StandardScaler()),\n",
    "    ('stacked_regressor', stacked_regressor),\n",
    "])"
   ],
   "id": "b1ad44dad7736d0c",
   "outputs": [],
   "execution_count": null
  },
  {
   "metadata": {},
   "cell_type": "markdown",
   "source": "# train the model and evaluate metrics",
   "id": "a08de028355d0f0b"
  },
  {
   "metadata": {},
   "cell_type": "code",
   "source": "model_pipeline.fit(X_train, y_train)",
   "id": "434ecdbc23dad459",
   "outputs": [],
   "execution_count": null
  },
  {
   "metadata": {},
   "cell_type": "code",
   "source": "y_pred = model_pipeline.predict(X_test)",
   "id": "482f52b8daa9b5e2",
   "outputs": [],
   "execution_count": null
  },
  {
   "metadata": {},
   "cell_type": "markdown",
   "source": "# metrics",
   "id": "5734519eed2e4253"
  },
  {
   "metadata": {},
   "cell_type": "code",
   "source": [
    "mae = np.mean(np.abs(y_test - y_pred))\n",
    "print(f\"Test MAE: {mae:.2f}\")"
   ],
   "id": "91774acdae6290f0",
   "outputs": [],
   "execution_count": null
  },
  {
   "metadata": {},
   "cell_type": "code",
   "source": [
    "mse = mean_squared_error(y_test, y_pred)\n",
    "print(f\"Test MSE: {mse:.2f}\")"
   ],
   "id": "a92d6632d2e71926",
   "outputs": [],
   "execution_count": null
  },
  {
   "metadata": {},
   "cell_type": "code",
   "source": [
    "rmse = np.sqrt(mse)\n",
    "(f\"Test RMSE: {rmse:.2f}\")"
   ],
   "id": "133221d370c11249",
   "outputs": [],
   "execution_count": null
  },
  {
   "metadata": {},
   "cell_type": "code",
   "source": [
    "r2 = r2_score(y_test, y_pred)\n",
    "print(f\"Test R2: {r2:.2f}\")"
   ],
   "id": "43986c03c9cef346",
   "outputs": [],
   "execution_count": null
  },
  {
   "metadata": {},
   "cell_type": "code",
   "source": [
    "sample_input = X_test.iloc[[0]]\n",
    "sample_input"
   ],
   "id": "2af5b4549ed981e",
   "outputs": [],
   "execution_count": null
  },
  {
   "metadata": {},
   "cell_type": "code",
   "source": [
    "sample_prediction = model_pipeline.predict(sample_input)\n",
    "print(f\"Prediction: {sample_prediction}\")"
   ],
   "id": "5c847225b64e1443",
   "outputs": [],
   "execution_count": null
  },
  {
   "metadata": {},
   "cell_type": "code",
   "source": "",
   "id": "9e51bf677df878",
   "outputs": [],
   "execution_count": null
  }
 ],
 "metadata": {
  "kernelspec": {
   "display_name": "Python 3",
   "language": "python",
   "name": "python3"
  },
  "language_info": {
   "codemirror_mode": {
    "name": "ipython",
    "version": 2
   },
   "file_extension": ".py",
   "mimetype": "text/x-python",
   "name": "python",
   "nbconvert_exporter": "python",
   "pygments_lexer": "ipython2",
   "version": "2.7.6"
  }
 },
 "nbformat": 4,
 "nbformat_minor": 5
}
