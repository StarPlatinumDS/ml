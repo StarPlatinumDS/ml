{
 "cells": [
  {
   "metadata": {},
   "cell_type": "markdown",
   "source": "# Import Libraries and Initialize MLflow",
   "id": "989b668652b397da"
  },
  {
   "cell_type": "code",
   "id": "initial_id",
   "metadata": {
    "collapsed": true,
    "ExecuteTime": {
     "end_time": "2025-03-01T10:40:34.299800Z",
     "start_time": "2025-03-01T10:40:26.363234Z"
    }
   },
   "source": [
    "import mlflow\n",
    "from transformers import pipeline\n",
    "import ipywidgets as widgets\n",
    "from IPython.display import display, clear_output"
   ],
   "outputs": [],
   "execution_count": 1
  },
  {
   "metadata": {
    "ExecuteTime": {
     "end_time": "2025-03-01T10:40:38.820297Z",
     "start_time": "2025-03-01T10:40:34.305154Z"
    }
   },
   "cell_type": "code",
   "source": [
    "summarizer = pipeline(\"summarization\", model=\"facebook/bart-large-cnn\")\n",
    "print(\"Summarization pipeline loaded successfully.\")"
   ],
   "id": "9b1228f5d3f6a244",
   "outputs": [
    {
     "name": "stderr",
     "output_type": "stream",
     "text": [
      "Device set to use cpu\n"
     ]
    },
    {
     "name": "stdout",
     "output_type": "stream",
     "text": [
      "Summarization pipeline loaded successfully.\n"
     ]
    }
   ],
   "execution_count": 2
  },
  {
   "metadata": {
    "ExecuteTime": {
     "end_time": "2025-03-01T10:40:39.015276Z",
     "start_time": "2025-03-01T10:40:38.984024Z"
    }
   },
   "cell_type": "code",
   "source": [
    "text_to_summarize = \"\"\"\n",
    "Artificial Intelligence (AI) and Machine Learning (ML) have seen tremendous growth in recent years,\n",
    "with advancements that are transforming industries across the globe. From healthcare to finance, AI is enabling\n",
    "new levels of automation and insight. One area that continues to garner significant attention is Natural Language\n",
    "Processing (NLP), particularly in tasks such as text summarization, translation, and sentiment analysis. This\n",
    "rapid progress is largely driven by innovations in deep learning, the availability of large datasets, and increased\n",
    "computational power. As AI technologies mature, the integration of sophisticated models into real-world applications\n",
    "is becoming increasingly feasible, promising a future where machines can assist humans in making more informed decisions.\n",
    "\"\"\""
   ],
   "id": "75b84d7e3b337a27",
   "outputs": [],
   "execution_count": 3
  },
  {
   "metadata": {
    "ExecuteTime": {
     "end_time": "2025-03-01T10:40:39.191029Z",
     "start_time": "2025-03-01T10:40:39.032779Z"
    }
   },
   "cell_type": "code",
   "source": [
    "mlflow.start_run(run_name=\"StaticTextSummarization\")\n",
    "mlflow.log_param(\"model\", \"facebook/bart-large-cnn\")"
   ],
   "id": "7b90e79273c1ff4e",
   "outputs": [
    {
     "name": "stderr",
     "output_type": "stream",
     "text": [
      "2025/03/01 13:40:39 WARNING mlflow.utils.git_utils: Failed to import Git (the Git executable is probably not on your PATH), so Git SHA is not available. Error: Failed to initialize: Bad git executable.\n",
      "The git executable must be specified in one of the following ways:\n",
      "    - be included in your $PATH\n",
      "    - be set via $GIT_PYTHON_GIT_EXECUTABLE\n",
      "    - explicitly set via git.refresh(<full-path-to-git-executable>)\n",
      "\n",
      "All git commands will error until this is rectified.\n",
      "\n",
      "This initial message can be silenced or aggravated in the future by setting the\n",
      "$GIT_PYTHON_REFRESH environment variable. Use one of the following values:\n",
      "    - quiet|q|silence|s|silent|none|n|0: for no message or exception\n",
      "    - warn|w|warning|log|l|1: for a warning message (logging level CRITICAL, displayed by default)\n",
      "    - error|e|exception|raise|r|2: for a raised exception\n",
      "\n",
      "Example:\n",
      "    export GIT_PYTHON_REFRESH=quiet\n",
      "\n"
     ]
    },
    {
     "data": {
      "text/plain": [
       "'facebook/bart-large-cnn'"
      ]
     },
     "execution_count": 4,
     "metadata": {},
     "output_type": "execute_result"
    }
   ],
   "execution_count": 4
  },
  {
   "metadata": {
    "ExecuteTime": {
     "end_time": "2025-03-01T10:40:42.902594Z",
     "start_time": "2025-03-01T10:40:39.215387Z"
    }
   },
   "cell_type": "code",
   "source": [
    "result = summarizer(text_to_summarize, max_length=150, min_length=40, do_sample=False)\n",
    "summary_text = result[0]['summary_text']"
   ],
   "id": "5139449a697b3a67",
   "outputs": [
    {
     "name": "stderr",
     "output_type": "stream",
     "text": [
      "Your max_length is set to 150, but your input_length is only 148. Since this is a summarization task, where outputs shorter than the input are typically wanted, you might consider decreasing max_length manually, e.g. summarizer('...', max_length=74)\n"
     ]
    }
   ],
   "execution_count": 5
  },
  {
   "metadata": {
    "ExecuteTime": {
     "end_time": "2025-03-01T10:40:42.939250Z",
     "start_time": "2025-03-01T10:40:42.918243Z"
    }
   },
   "cell_type": "code",
   "source": [
    "print(\"Static Summary:\")\n",
    "print(summary_text)\n",
    "mlflow.log_metric(\"summary_length\", len(summary_text))\n",
    "mlflow.end_run()"
   ],
   "id": "ecb1f93e1e867cf7",
   "outputs": [
    {
     "name": "stdout",
     "output_type": "stream",
     "text": [
      "Static Summary:\n",
      "Artificial Intelligence (AI) and Machine Learning (ML) have seen tremendous growth in recent years. From healthcare to finance, AI is enabling new levels of automation and insight. One area that continues to garner significant attention is Natural LanguageProcessing (NLP)\n"
     ]
    }
   ],
   "execution_count": 6
  },
  {
   "metadata": {
    "ExecuteTime": {
     "end_time": "2025-03-01T10:40:42.976321Z",
     "start_time": "2025-03-01T10:40:42.956514Z"
    }
   },
   "cell_type": "code",
   "source": [
    "user_input_text = widgets.Textarea(\n",
    "    value='Enter your text here...',\n",
    "    placeholder='Paste or type your text here',\n",
    "    description='Input Text:',\n",
    "    disabled=False,\n",
    "    layout=widgets.Layout(width='100%', height='200px')\n",
    ")"
   ],
   "id": "75c8577e4f0a2d56",
   "outputs": [],
   "execution_count": 7
  },
  {
   "metadata": {
    "ExecuteTime": {
     "end_time": "2025-03-01T10:40:42.999770Z",
     "start_time": "2025-03-01T10:40:42.994093Z"
    }
   },
   "cell_type": "code",
   "source": [
    "summarize_button = widgets.Button(\n",
    "    description=\"Summarize Text\",\n",
    "    button_style='success'\n",
    ")"
   ],
   "id": "50d815f021bae4df",
   "outputs": [],
   "execution_count": 8
  },
  {
   "metadata": {
    "ExecuteTime": {
     "end_time": "2025-03-01T10:54:00.123567Z",
     "start_time": "2025-03-01T10:54:00.109673Z"
    }
   },
   "cell_type": "code",
   "source": [
    "output_area = widgets.Output()\n",
    "\n",
    "def on_summarize_clicked(b):\n",
    "    with output_area:\n",
    "        clear_output()\n",
    "        text = user_input_text.value\n",
    "        if not text.strip():\n",
    "            print(\"Please enter text to summarize\")\n",
    "        else:\n",
    "            mlflow.start_run(run_name=\"UserTextSummarization\")\n",
    "            mlflow.log_param('input_source', \"user_provided\")\n",
    "            mlflow.log_param(\"model\", \"facebook/bart-large-cnn\")\n",
    "            \n",
    "            result = summarizer(text, max_length=200, min_length=100, do_sample=False)\n",
    "            summary_text = result[0]['summary_text']\n",
    "            \n",
    "            print(\"Summary:\")\n",
    "            print(summary_text)\n",
    "            \n",
    "            mlflow.log_param('summary_text', len(summary_text))\n",
    "            mlflow.end_run()\n",
    "            \n",
    "summarize_button.on_click(on_summarize_clicked)\n",
    "display(user_input_text, summarize_button, output_area)"
   ],
   "id": "88404a3ca5b4f14f",
   "outputs": [
    {
     "data": {
      "text/plain": [
       "Textarea(value='1. Develop and Deploy Automated Trading Bots\\nML-Driven Trading: Use your ML skills to build a…"
      ],
      "application/vnd.jupyter.widget-view+json": {
       "version_major": 2,
       "version_minor": 0,
       "model_id": "9ad1b4854feb444490f9b512d0406d87"
      }
     },
     "metadata": {},
     "output_type": "display_data"
    },
    {
     "data": {
      "text/plain": [
       "Button(button_style='success', description='Summarize Text', style=ButtonStyle())"
      ],
      "application/vnd.jupyter.widget-view+json": {
       "version_major": 2,
       "version_minor": 0,
       "model_id": "1d34f6dd33db4a94890b45c6e53bd4f9"
      }
     },
     "metadata": {},
     "output_type": "display_data"
    },
    {
     "data": {
      "text/plain": [
       "Output()"
      ],
      "application/vnd.jupyter.widget-view+json": {
       "version_major": 2,
       "version_minor": 0,
       "model_id": "fabb8a99ca9d4a64b32d909d3513c798"
      }
     },
     "metadata": {},
     "output_type": "display_data"
    }
   ],
   "execution_count": 10
  },
  {
   "metadata": {
    "ExecuteTime": {
     "end_time": "2025-03-01T10:40:43.074657Z",
     "start_time": "2025-03-01T10:40:43.067660Z"
    }
   },
   "cell_type": "code",
   "source": "",
   "id": "392f42da3199bd57",
   "outputs": [],
   "execution_count": null
  }
 ],
 "metadata": {
  "kernelspec": {
   "display_name": "Python 3",
   "language": "python",
   "name": "python3"
  },
  "language_info": {
   "codemirror_mode": {
    "name": "ipython",
    "version": 2
   },
   "file_extension": ".py",
   "mimetype": "text/x-python",
   "name": "python",
   "nbconvert_exporter": "python",
   "pygments_lexer": "ipython2",
   "version": "2.7.6"
  }
 },
 "nbformat": 4,
 "nbformat_minor": 5
}
