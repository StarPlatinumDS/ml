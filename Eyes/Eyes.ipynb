{
 "cells": [
  {
   "cell_type": "code",
   "id": "initial_id",
   "metadata": {
    "collapsed": true,
    "ExecuteTime": {
     "end_time": "2025-01-07T14:49:53.747103Z",
     "start_time": "2025-01-07T14:49:53.480963Z"
    }
   },
   "source": [
    "import cv2 #Video and Image processing\n",
    "import numpy as np #Array manipulation"
   ],
   "outputs": [],
   "execution_count": 1
  },
  {
   "metadata": {
    "ExecuteTime": {
     "end_time": "2025-01-07T14:52:29.667719Z",
     "start_time": "2025-01-07T14:52:29.616171Z"
    }
   },
   "cell_type": "code",
   "source": [
    "#pre-trained Haar cascades for face and eye detection\n",
    "face_cascade = cv2.CascadeClassifier(cv2.data.haarcascades + './haarcascade_frontalface_default.xml')\n",
    "eye_cascade = cv2.CascadeClassifier(cv2.data.haarcascades + './haarcascade_eye.xml')"
   ],
   "id": "e8a1ae34ce421d60",
   "outputs": [],
   "execution_count": 2
  },
  {
   "metadata": {
    "ExecuteTime": {
     "end_time": "2025-01-07T15:06:58.074548Z",
     "start_time": "2025-01-07T15:06:58.058900Z"
    }
   },
   "cell_type": "code",
   "source": [
    "#detect faces and swap eyes in a given frame\n",
    "def swap_frame(frame):\n",
    "    #convert the frame to grayscale for haar cascades\n",
    "    gray = cv2.cvtColor(frame, cv2.COLOR_BGR2GRAY)\n",
    "    \n",
    "    #detect faces in the frame\n",
    "    faces = face_cascade.detectMultiScale(gray, scaleFactor=1.3, minNeighbors=5)\n",
    "    \n",
    "    #process each detected face\n",
    "    for (x, y, w, h) in faces:\n",
    "        #Extract the face region from the grayscale and colored frames\n",
    "        face_roi_gray = gray[y:y + h, x:x + w]\n",
    "        face_roi_color = frame[y:y + h, x:x + w]\n",
    "        \n",
    "        #Detect eyes within the face \n",
    "        eyes = eye_cascade.detectMultiScale(face_roi_gray, scaleFactor=1.1, minNeighbors=10, minSize=(30, 30))\n",
    "        \n",
    "        #Make sure that 2 eyes were detected\n",
    "        if len(eyes) == 2:\n",
    "            #Sort by x-coordinate to distinguish between left & right eye\n",
    "            eyes = sorted(eyes, key=lambda ex: ex[0])\n",
    "            \n",
    "            #Extract the eye region\n",
    "            eye_1 = eyes[0] #left eye\n",
    "            eye_2 = eyes[1] #right eye\n",
    "            \n",
    "            #Get coordinates and dimensions of each eye\n",
    "            ex1, ey1, ew1, eh1 = eye_1\n",
    "            ex2, ey2, ew2, eh2 = eye_2\n",
    "            \n",
    "            #crop the eye regions from the face ROI\n",
    "            left_eye = face_roi_color[ey1:ey1 + eh1, ex1:ex1 + ew1]\n",
    "            right_eye = face_roi_color[ey2:ey2 + eh2, ex2:ex2 + ew2]\n",
    "            \n",
    "            #Resize the eyes to match target ROI\n",
    "            right_eye_resized = cv2.resize(right_eye, (ew1, eh1))\n",
    "            left_eye_resized = cv2.resize(left_eye, (ew2, eh2))\n",
    "            \n",
    "            #Swap the eyes in the face ROI\n",
    "            face_roi_color[ey1:ey1+eh1, ex1:ex1+ew1] = right_eye_resized\n",
    "            face_roi_color[ey2:ey2 + eh2, ex2:ex2 + ew2] = left_eye_resized\n",
    "            \n",
    "    return frame\n",
    "            "
   ],
   "id": "c2e14c07eb679b2d",
   "outputs": [],
   "execution_count": 3
  },
  {
   "metadata": {
    "ExecuteTime": {
     "end_time": "2025-01-07T15:14:55.858524Z",
     "start_time": "2025-01-07T15:11:18.879792Z"
    }
   },
   "cell_type": "code",
   "source": [
    "#Real-time feed\n",
    "cap = cv2.VideoCapture(0)\n",
    "\n",
    "while True:\n",
    "    ret, frame = cap.read()\n",
    "    if not ret:\n",
    "        print('Failed to capture frame')\n",
    "        break\n",
    "    \n",
    "    frame = swap_frame(frame)\n",
    "    cv2.imshow('Eye Swap', frame)\n",
    "    \n",
    "    if cv2.waitKey(1) & 0xFF == ord('q'):\n",
    "        break\n",
    "        \n",
    "cap.release()\n",
    "cv2.destroyAllWindows()"
   ],
   "id": "71f3b846b6be4894",
   "outputs": [],
   "execution_count": 4
  },
  {
   "metadata": {},
   "cell_type": "code",
   "outputs": [],
   "execution_count": null,
   "source": "",
   "id": "dd3de6341317dc4c"
  }
 ],
 "metadata": {
  "kernelspec": {
   "display_name": "Python 3",
   "language": "python",
   "name": "python3"
  },
  "language_info": {
   "codemirror_mode": {
    "name": "ipython",
    "version": 2
   },
   "file_extension": ".py",
   "mimetype": "text/x-python",
   "name": "python",
   "nbconvert_exporter": "python",
   "pygments_lexer": "ipython2",
   "version": "2.7.6"
  }
 },
 "nbformat": 4,
 "nbformat_minor": 5
}
