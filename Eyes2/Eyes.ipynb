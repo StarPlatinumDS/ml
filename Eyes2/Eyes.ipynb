{
 "cells": [
  {
   "cell_type": "code",
   "id": "initial_id",
   "metadata": {
    "collapsed": true,
    "ExecuteTime": {
     "end_time": "2025-01-07T20:16:50.589122Z",
     "start_time": "2025-01-07T20:16:50.441852Z"
    }
   },
   "source": [
    "import cv2 #Video and Image processing\n",
    "import numpy as np #Array manipulation"
   ],
   "outputs": [],
   "execution_count": 1
  },
  {
   "metadata": {
    "ExecuteTime": {
     "end_time": "2025-01-07T20:16:50.651004Z",
     "start_time": "2025-01-07T20:16:50.601239Z"
    }
   },
   "cell_type": "code",
   "source": [
    "#load pre-trained DNN model\n",
    "model_path = './res10_300x300_ssd_iter_140000.caffemodel'\n",
    "config_path = './deploy.prototxt'\n",
    "net = cv2.dnn.readNetFromCaffe(config_path, model_path)\n",
    "\n",
    "eye_cascade = cv2.CascadeClassifier(cv2.data.haarcascades +  './haarcascade_eye.xml')"
   ],
   "id": "6ce4e75542bb7c4b",
   "outputs": [],
   "execution_count": 2
  },
  {
   "metadata": {
    "ExecuteTime": {
     "end_time": "2025-01-07T20:19:23.581031Z",
     "start_time": "2025-01-07T20:19:23.565413Z"
    }
   },
   "cell_type": "code",
   "source": [
    "#detect faces and swap eyes in a given frame, but now with a DNN!\n",
    "def swap_frame(frame):\n",
    "    #convert the frame to grayscale for haar cascades\n",
    "    h, w = frame.shape[:2]\n",
    "    blob = cv2.dnn.blobFromImage(frame, scalefactor=1.0, size=(300, 300), mean=(104.0, 177.0, 123.0))\n",
    "    \n",
    "    #face detect\n",
    "    net.setInput(blob)\n",
    "    detections = net.forward()\n",
    "    \n",
    "    for i in range(detections.shape[2]):\n",
    "        confidence = detections[0, 0, i, 2]\n",
    "        if confidence > 0.5:\n",
    "            box = detections[0, 0, i, 3:7] * np.array([w, h, w, h])\n",
    "            x1, y1, x2, y2 = box.astype(int)\n",
    "            \n",
    "            #Exctract face ROI\n",
    "            face_roi = frame[y1:y2, x1:x2]\n",
    "            \n",
    "            #apply haar cascades for eye detection in ROI\n",
    "            gray_face = cv2.cvtColor(face_roi, cv2.COLOR_BGR2GRAY)\n",
    "           \n",
    "            detected_eyes = eye_cascade.detectMultiScale(gray_face, scaleFactor=1.1, minNeighbors=10, minSize=(30, 30))\n",
    "            \n",
    "            if len(detected_eyes) == 2:\n",
    "                #Sort by x-coordinate\n",
    "                detected_eyes = sorted(detected_eyes, key=lambda x: x[0])\n",
    "                \n",
    "                #swap detected eyes\n",
    "                left_eye = detected_eyes[0]\n",
    "                right_eye = detected_eyes[1]\n",
    "                \n",
    "                #extract eye regions\n",
    "                lx, ly, lw, lh = left_eye\n",
    "                rx, ry, rw, rh = right_eye\n",
    "                \n",
    "                left_eye_region = face_roi[ly:ly+lh, lx:lx+lw]\n",
    "                right_eye_region = face_roi[ry:ry+rh,rx:rx+rh]\n",
    "                \n",
    "                #Flip ROI upside down\n",
    "                #left_eye_flipped = cv2.flip(left_eye_region, 0)\n",
    "                #right_eye_flipped = cv2.flip(right_eye_region, 0)\n",
    "                \n",
    "                #resize the eye regions to match the target areas\n",
    "                left_eye_resized = cv2.resize(left_eye_region, (rw, rh))\n",
    "                right_eye_resized = cv2.resize(right_eye_region, (lw, lh))\n",
    "                \n",
    "                #swap eyes\n",
    "                face_roi[ly:ly+lh, lx:lx+lw] = right_eye_resized\n",
    "                face_roi[ry:ry+rh, rx:rx+rw] = left_eye_resized\n",
    "            \n",
    "            #Replace face ROI back in the frame\n",
    "            frame[y1:y2, x1:x2] = face_roi\n",
    "    return frame\n",
    "                "
   ],
   "id": "c2e14c07eb679b2d",
   "outputs": [],
   "execution_count": 5
  },
  {
   "metadata": {
    "ExecuteTime": {
     "end_time": "2025-01-07T20:21:38.191906Z",
     "start_time": "2025-01-07T20:19:24.844459Z"
    }
   },
   "cell_type": "code",
   "source": [
    "#Real-time feed\n",
    "cap = cv2.VideoCapture(0)\n",
    "\n",
    "while True:\n",
    "    ret, frame = cap.read()\n",
    "    if not ret:\n",
    "        print('Failed to capture frame')\n",
    "        break\n",
    "    \n",
    "    frame = swap_frame(frame)\n",
    "    cv2.imshow('Eye Swap', frame)\n",
    "    \n",
    "    if cv2.waitKey(1) & 0xFF == ord('q'):\n",
    "        break\n",
    "        \n",
    "cap.release()\n",
    "cv2.destroyAllWindows()"
   ],
   "id": "71f3b846b6be4894",
   "outputs": [],
   "execution_count": 6
  },
  {
   "metadata": {},
   "cell_type": "code",
   "source": "",
   "id": "dd3de6341317dc4c",
   "outputs": [],
   "execution_count": null
  }
 ],
 "metadata": {
  "kernelspec": {
   "display_name": "Python 3",
   "language": "python",
   "name": "python3"
  },
  "language_info": {
   "codemirror_mode": {
    "name": "ipython",
    "version": 2
   },
   "file_extension": ".py",
   "mimetype": "text/x-python",
   "name": "python",
   "nbconvert_exporter": "python",
   "pygments_lexer": "ipython2",
   "version": "2.7.6"
  }
 },
 "nbformat": 4,
 "nbformat_minor": 5
}
