{
 "cells": [
  {
   "metadata": {},
   "cell_type": "markdown",
   "source": "# Imports & Pipeline Initialization/",
   "id": "f215693b20b77d95"
  },
  {
   "cell_type": "code",
   "id": "initial_id",
   "metadata": {
    "collapsed": true,
    "ExecuteTime": {
     "end_time": "2025-03-01T11:07:37.691769Z",
     "start_time": "2025-03-01T11:07:27.161484Z"
    }
   },
   "source": [
    "import mlflow\n",
    "from transformers import pipeline\n",
    "import ipywidgets as widgets\n",
    "from IPython.display import display, clear_output\n",
    "\n",
    "summarizer = pipeline(\"summarization\", model=\"facebook/bart-large-cnn\")\n",
    "print(\"Summarization pipeline loaded successfully.\")"
   ],
   "outputs": [
    {
     "name": "stderr",
     "output_type": "stream",
     "text": [
      "Device set to use cpu\n"
     ]
    },
    {
     "name": "stdout",
     "output_type": "stream",
     "text": [
      "Summarization pipeline loaded successfully.\n"
     ]
    }
   ],
   "execution_count": 1
  },
  {
   "metadata": {
    "ExecuteTime": {
     "end_time": "2025-03-01T11:44:37.279293Z",
     "start_time": "2025-03-01T11:44:37.244729Z"
    }
   },
   "cell_type": "code",
   "source": [
    "def run_summarization(text, run_name=\"SummarizationRun\", max_length=200, min_length=100):\n",
    "    \"\"\"\n",
    "    Summarizes the provided text using the initialized summarization pipeline.\n",
    "    Wraps the inference in an MLflow run and logs parameters and metrics.\n",
    "    \n",
    "    Parameters:\n",
    "      text (str): The text to summarize.\n",
    "      run_name (str): The name for the MLflow run.\n",
    "      max_length (int): Maximum length of the summary.\n",
    "      min_length (int): Minimum length of the summary.\n",
    "    \n",
    "    Returns:\n",
    "      str: The generated summary.\n",
    "    \"\"\"\n",
    "    try:\n",
    "        # Start an MLflow run with the provided run name.\n",
    "        mlflow.start_run(run_name=run_name)\n",
    "        mlflow.log_param(\"model\", \"facebook/bart-large-cnn\")\n",
    "        mlflow.log_param(\"max_length\", max_length)\n",
    "        mlflow.log_param(\"min_length\", min_length)\n",
    "        \n",
    "        # Summarization\n",
    "        result = summarizer(text, max_length=max_length, min_length=min_length, do_sample=False)\n",
    "        summary_text = result[0]['summary_text']\n",
    "        \n",
    "        mlflow.log_metric(\"summary_length\", len(summary_text))\n",
    "        \n",
    "        #End run\n",
    "        mlflow.end_run()\n",
    "        return summary_text\n",
    "    except Exception as e:\n",
    "        mlflow.end_run()\n",
    "        print(\"An error occured during summarization:\", str(e))\n",
    "        return None"
   ],
   "id": "e5cf403eb6fe31e1",
   "outputs": [],
   "execution_count": 2
  },
  {
   "metadata": {},
   "cell_type": "markdown",
   "source": "# Static Summarization Example",
   "id": "9806ab26fa180f44"
  },
  {
   "metadata": {
    "ExecuteTime": {
     "end_time": "2025-03-01T11:48:53.999072Z",
     "start_time": "2025-03-01T11:48:45.832630Z"
    }
   },
   "cell_type": "code",
   "source": [
    "text_to_summarize = \"\"\"\n",
    "Federal Funds Target Rate Range\n",
    "The Fed influences interest rates by monitoring and changing the target range for the federal funds rate (the overnight rate at which banks lend reserves to each other).\n",
    "It usually sets a 25 basis point range, such as 5.25%-5.50%, which helps maintain a desirable effective federal funds rate (EFFR).\n",
    "The EFFR is a volume-weighted median of loans between these depository institutions.\n",
    "This rate influences all other rates, including those for bank loans and credit card balances. As a result, it also influences spending and saving, which affects the amount of money circulating throughout the economy.\n",
    "Interest on Reserve Balances\n",
    "In the past the Fed influenced the money supply by modifying reserve requirements. This refers to the amount of funds banks are required to hold against deposits in bank accounts.\n",
    "The Fed no longer requires banks to hold reserves. Its primary tool is now interest on reserve balances (IORB). By paying interest on any reserves that banks keep, it establishes a certain level of support for rates. This keeps the federal funds rate from dropping too far below it.\n",
    "IORB influences banks to keep money in reserve or deplete their reserves based on demand for loans and the level of rates—adding or subtracting to the supply of circulating money.\n",
    "The Discount Rate\n",
    "Banks can borrow money from the Fed using a lending program it calls the discount window. The interest rate set for these loans helps set the top number (the ceiling) for the federal funds rate target range. These loans are short-term, up to 90 days.\n",
    "By lowering (or raising) the discount rate that banks pay on short-term loans from the Federal Reserve Bank, the Fed effectively increases (or decreases) the liquidity of the banking system.\n",
    "Overnight Reverse Repurchase Agreements\n",
    "The Federal Reserve conducts overnight reverse repurchase (ON RRP) agreements, in which it sells a security to an institution, then buys it back the next day for more money. The interest rate used for ON RRPs helps the Fed set the lower rate (the floor) of its fed funds target range.\n",
    "These reverse repos subtract money from reserves, in essence taking money out of circulation.\n",
    "Open Market Operations\n",
    "In open market operations, the Fed purchases and sells securities issued by the U.S. government (such as Treasuries), which can affect the amount of money in circulation.\n",
    "Open market operations once played a major role in the implementation of the Fed's monetary policy. Currently, they're conducted only to help the central bank maintain the \"ample level of reserves\" it believes is needed to continue to administer the aforementioned rates to influence the effective federal funds rate.\n",
    "\"\"\"\n",
    "\n",
    "static_summary = run_summarization(text_to_summarize, run_name=\"StaticTextSummarization\")\n",
    "if static_summary:\n",
    "    print(\"Static summary generated\")\n",
    "    print(static_summary)"
   ],
   "id": "12a1e13e6f047590",
   "outputs": [
    {
     "name": "stdout",
     "output_type": "stream",
     "text": [
      "Static summary generated\n",
      "The Fed influences interest rates by monitoring and changing the target range for the federal funds rate (EFFR) It usually sets a 25 basis point range, such as 5.25%-5.50%, which helps maintain a desirable effectiveFederal Funds Target Rate Range. The discount rate that banks pay on short-term loans from the Fed increases (or decreases) the liquidity of the banking system. The interest rate used for ON RRPs helps the Fed set the lower rate (the floor) of its fed funds target range.\n"
     ]
    }
   ],
   "execution_count": 5
  },
  {
   "metadata": {},
   "cell_type": "markdown",
   "source": "# Interactive Summarization with User Input",
   "id": "eab890cf8d317307"
  },
  {
   "metadata": {
    "ExecuteTime": {
     "end_time": "2025-03-01T11:54:21.538519Z",
     "start_time": "2025-03-01T11:54:21.517172Z"
    }
   },
   "cell_type": "code",
   "source": [
    "user_input_text = widgets.Textarea(\n",
    "    value='',\n",
    "    placeholder=\"Paste or type text here...\",\n",
    "    description='Input Text:',\n",
    "    disabled=False,\n",
    "    layout=widgets.Layout(width='100%', height='200px')\n",
    ")\n",
    "\n",
    "summarize_button = widgets.Button(\n",
    "    description=\"Summarize Text\",\n",
    "    button_style='success',\n",
    ")\n",
    "\n",
    "output_area = widgets.Output()"
   ],
   "id": "bf42697a76795f3d",
   "outputs": [],
   "execution_count": 7
  },
  {
   "metadata": {
    "ExecuteTime": {
     "end_time": "2025-03-01T11:58:04.688877Z",
     "start_time": "2025-03-01T11:58:04.673046Z"
    }
   },
   "cell_type": "code",
   "source": [
    "def on_summarize_clicked(b):\n",
    "    with output_area:\n",
    "        clear_output()\n",
    "        text = user_input_text.value\n",
    "        if not text.strip():\n",
    "            print(\"Please enter text to summarize.\")\n",
    "        else:\n",
    "            summary = run_summarization(text, run_name=\"UserTextSummarization\")\n",
    "            if summary:\n",
    "                print(\"Summary:\")\n",
    "                print(summary)\n",
    "            else:\n",
    "                print(\"Failed to generate summary.\")\n",
    "                \n",
    "summarize_button.on_click(on_summarize_clicked)\n",
    "\n",
    "display(user_input_text, summarize_button, output_area)"
   ],
   "id": "d58246cc096a9bf7",
   "outputs": [
    {
     "data": {
      "text/plain": [
       "Textarea(value='', description='Input Text:', layout=Layout(height='200px', width='100%'), placeholder='Paste …"
      ],
      "application/vnd.jupyter.widget-view+json": {
       "version_major": 2,
       "version_minor": 0,
       "model_id": "c6810581bddd4e90a50db2b751d45e9c"
      }
     },
     "metadata": {},
     "output_type": "display_data"
    },
    {
     "data": {
      "text/plain": [
       "Button(button_style='success', description='Summarize Text', style=ButtonStyle())"
      ],
      "application/vnd.jupyter.widget-view+json": {
       "version_major": 2,
       "version_minor": 0,
       "model_id": "40d87b5a4d094e6aabef522d3d1fd999"
      }
     },
     "metadata": {},
     "output_type": "display_data"
    },
    {
     "data": {
      "text/plain": [
       "Output()"
      ],
      "application/vnd.jupyter.widget-view+json": {
       "version_major": 2,
       "version_minor": 0,
       "model_id": "b6be411aace647958b54e45aee6d8b13"
      }
     },
     "metadata": {},
     "output_type": "display_data"
    }
   ],
   "execution_count": 8
  },
  {
   "metadata": {},
   "cell_type": "code",
   "outputs": [],
   "execution_count": null,
   "source": "",
   "id": "9896c887dba5d299"
  }
 ],
 "metadata": {
  "kernelspec": {
   "display_name": "Python 3",
   "language": "python",
   "name": "python3"
  },
  "language_info": {
   "codemirror_mode": {
    "name": "ipython",
    "version": 2
   },
   "file_extension": ".py",
   "mimetype": "text/x-python",
   "name": "python",
   "nbconvert_exporter": "python",
   "pygments_lexer": "ipython2",
   "version": "2.7.6"
  }
 },
 "nbformat": 4,
 "nbformat_minor": 5
}
